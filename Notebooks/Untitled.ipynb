{
 "cells": [
  {
   "cell_type": "code",
   "execution_count": 154,
   "id": "f657da09-d1ca-49bb-9234-6da381fd3437",
   "metadata": {},
   "outputs": [],
   "source": [
    "# --- deps: pip install filterpy sympy numpy ---\n",
    "import numpy as np\n",
    "import sympy as sp"
   ]
  },
  {
   "cell_type": "code",
   "execution_count": 155,
   "id": "5d93e945-c0e3-4c0a-a20b-5ac12f11471a",
   "metadata": {},
   "outputs": [],
   "source": [
    "px, py, pz, vx, vy, vz, qw, qx, qy, qz = sp.symbols('p_{x} p_{y} p_{z} v_{x} v_{y} v_{z} q_{w} q_{x} q_{y} q_{z}')\n",
    "bwx, bwy, bwz, bax, bay, baz =  sp.symbols('b_{wx} b_{wy} b_{wz} b_{ax} b_{ay} b_{az}')"
   ]
  },
  {
   "cell_type": "code",
   "execution_count": 156,
   "id": "9be229a3-4608-4e19-bfbd-ac8533186459",
   "metadata": {},
   "outputs": [],
   "source": [
    "x =sp.Matrix([px, py, pz, vx, vy, vz, qw, qx, qy, qz, bwx, bwy, bwz, bax, bay, baz])"
   ]
  },
  {
   "cell_type": "code",
   "execution_count": 157,
   "id": "8612cec7-8b0c-43f2-8e9b-32f8b032d026",
   "metadata": {},
   "outputs": [],
   "source": [
    "p = sp.Matrix([\n",
    "    px, py, pz\n",
    "])\n",
    "\n",
    "v = sp.Matrix([\n",
    "    vx, vy, vz\n",
    "])\n",
    "q = sp.Matrix([\n",
    "    qw, qx, qy, qz\n",
    "])\n",
    "\n",
    "bw = sp.Matrix([\n",
    "    bwx, bwy, bwz, \n",
    "])\n",
    "\n",
    "ba = sp.Matrix([\n",
    "    bax, bay, baz\n",
    "])\n",
    "\n",
    "dt = sp.symbols('dt')\n",
    "\n",
    "R = sp.Matrix([\n",
    "    [1-2*(qy**2 + qz**2), 2*(qx*qy - qw*qz), 2*(qx*qz + qw*qy)],\n",
    "    [2*(qx*qy - qw*qz), 1-2*(qx**2 + qz**2), 2*(qy*qz-qw*qx)],\n",
    "    [2*(qx*qz - qw * qy), 2*(qy*qz + qw*qx), 1-2*(qx**2 + qy**2)]\n",
    "])\n",
    "\n",
    "ax, ay, az = sp.symbols('a_{x} a_{y} a_{z}')\n",
    "wx, wy, wz = sp.symbols('w_{x} w_{y} w_{z}')\n",
    "\n",
    "am = sp.Matrix([\n",
    "        ax, ay, az\n",
    "])\n",
    "\n",
    "wm = sp.Matrix([\n",
    "        wx, wy, wz\n",
    "])\n",
    "\n",
    "g = sp.Matrix([\n",
    "    0, 0, -9.81\n",
    "])\n",
    " \n",
    "u = sp.Matrix([\n",
    "    ax, ay, az, wx, wy, wz\n",
    "])"
   ]
  },
  {
   "cell_type": "code",
   "execution_count": 158,
   "id": "911dc411-c202-4f05-9bca-c902fdfbb84d",
   "metadata": {},
   "outputs": [
    {
     "data": {
      "text/latex": [
       "$\\displaystyle \\left[\\begin{matrix}dt^{2} \\left(0.5 \\left(a_{x} - b_{ax}\\right) \\left(- 2 q_{y}^{2} - 2 q_{z}^{2} + 1\\right) + 0.5 \\left(a_{y} - b_{ay}\\right) \\left(- 2 q_{w} q_{z} + 2 q_{x} q_{y}\\right) + 0.5 \\left(a_{z} - b_{az}\\right) \\left(2 q_{w} q_{y} + 2 q_{x} q_{z}\\right)\\right) + dt v_{x}\\\\dt^{2} \\left(0.5 \\left(a_{x} - b_{ax}\\right) \\left(- 2 q_{w} q_{z} + 2 q_{x} q_{y}\\right) + 0.5 \\left(a_{y} - b_{ay}\\right) \\left(- 2 q_{x}^{2} - 2 q_{z}^{2} + 1\\right) + 0.5 \\left(a_{z} - b_{az}\\right) \\left(- 2 q_{w} q_{x} + 2 q_{y} q_{z}\\right)\\right) + dt v_{y}\\\\dt^{2} \\left(0.5 \\left(a_{x} - b_{ax}\\right) \\left(- 2 q_{w} q_{y} + 2 q_{x} q_{z}\\right) + 0.5 \\left(a_{y} - b_{ay}\\right) \\left(2 q_{w} q_{x} + 2 q_{y} q_{z}\\right) + 0.5 \\left(a_{z} - b_{az}\\right) \\left(- 2 q_{x}^{2} - 2 q_{y}^{2} + 1\\right) - 4.905\\right) + dt v_{z}\\end{matrix}\\right]$"
      ],
      "text/plain": [
       "Matrix([\n",
       "[        dt**2*(0.5*(a_{x} - b_{ax})*(-2*q_{y}**2 - 2*q_{z}**2 + 1) + 0.5*(a_{y} - b_{ay})*(-2*q_{w}*q_{z} + 2*q_{x}*q_{y}) + 0.5*(a_{z} - b_{az})*(2*q_{w}*q_{y} + 2*q_{x}*q_{z})) + dt*v_{x}],\n",
       "[       dt**2*(0.5*(a_{x} - b_{ax})*(-2*q_{w}*q_{z} + 2*q_{x}*q_{y}) + 0.5*(a_{y} - b_{ay})*(-2*q_{x}**2 - 2*q_{z}**2 + 1) + 0.5*(a_{z} - b_{az})*(-2*q_{w}*q_{x} + 2*q_{y}*q_{z})) + dt*v_{y}],\n",
       "[dt**2*(0.5*(a_{x} - b_{ax})*(-2*q_{w}*q_{y} + 2*q_{x}*q_{z}) + 0.5*(a_{y} - b_{ay})*(2*q_{w}*q_{x} + 2*q_{y}*q_{z}) + 0.5*(a_{z} - b_{az})*(-2*q_{x}**2 - 2*q_{y}**2 + 1) - 4.905) + dt*v_{z}]])"
      ]
     },
     "execution_count": 158,
     "metadata": {},
     "output_type": "execute_result"
    }
   ],
   "source": [
    "v * dt + 0.5*(R*(am - ba) + g)*dt**2 #calculating the position difference (dp)"
   ]
  },
  {
   "cell_type": "code",
   "execution_count": 159,
   "id": "5f8ade5e-05e5-4d4e-8097-5c4f1a97dc2c",
   "metadata": {},
   "outputs": [
    {
     "data": {
      "text/latex": [
       "$\\displaystyle \\left[\\begin{matrix}dt \\left(\\left(a_{x} - b_{ax}\\right) \\left(- 2 q_{y}^{2} - 2 q_{z}^{2} + 1\\right) + \\left(a_{y} - b_{ay}\\right) \\left(- 2 q_{w} q_{z} + 2 q_{x} q_{y}\\right) + \\left(a_{z} - b_{az}\\right) \\left(2 q_{w} q_{y} + 2 q_{x} q_{z}\\right)\\right)\\\\dt \\left(\\left(a_{x} - b_{ax}\\right) \\left(- 2 q_{w} q_{z} + 2 q_{x} q_{y}\\right) + \\left(a_{y} - b_{ay}\\right) \\left(- 2 q_{x}^{2} - 2 q_{z}^{2} + 1\\right) + \\left(a_{z} - b_{az}\\right) \\left(- 2 q_{w} q_{x} + 2 q_{y} q_{z}\\right)\\right)\\\\dt \\left(\\left(a_{x} - b_{ax}\\right) \\left(- 2 q_{w} q_{y} + 2 q_{x} q_{z}\\right) + \\left(a_{y} - b_{ay}\\right) \\left(2 q_{w} q_{x} + 2 q_{y} q_{z}\\right) + \\left(a_{z} - b_{az}\\right) \\left(- 2 q_{x}^{2} - 2 q_{y}^{2} + 1\\right) - 9.81\\right)\\end{matrix}\\right]$"
      ],
      "text/plain": [
       "Matrix([\n",
       "[       dt*((a_{x} - b_{ax})*(-2*q_{y}**2 - 2*q_{z}**2 + 1) + (a_{y} - b_{ay})*(-2*q_{w}*q_{z} + 2*q_{x}*q_{y}) + (a_{z} - b_{az})*(2*q_{w}*q_{y} + 2*q_{x}*q_{z}))],\n",
       "[      dt*((a_{x} - b_{ax})*(-2*q_{w}*q_{z} + 2*q_{x}*q_{y}) + (a_{y} - b_{ay})*(-2*q_{x}**2 - 2*q_{z}**2 + 1) + (a_{z} - b_{az})*(-2*q_{w}*q_{x} + 2*q_{y}*q_{z}))],\n",
       "[dt*((a_{x} - b_{ax})*(-2*q_{w}*q_{y} + 2*q_{x}*q_{z}) + (a_{y} - b_{ay})*(2*q_{w}*q_{x} + 2*q_{y}*q_{z}) + (a_{z} - b_{az})*(-2*q_{x}**2 - 2*q_{y}**2 + 1) - 9.81)]])"
      ]
     },
     "execution_count": 159,
     "metadata": {},
     "output_type": "execute_result"
    }
   ],
   "source": [
    "(R*(am-ba)+g)*dt #calculating the velocity differnce (dv)"
   ]
  },
  {
   "cell_type": "code",
   "execution_count": 160,
   "id": "e712f3c1-260c-4259-87f3-ba7af4881fe7",
   "metadata": {},
   "outputs": [],
   "source": [
    "omega = wm - bw #corrected angular velocity"
   ]
  },
  {
   "cell_type": "code",
   "execution_count": 161,
   "id": "f445db2a-714f-40cc-af65-3d48c9c31f9e",
   "metadata": {},
   "outputs": [
    {
     "data": {
      "text/latex": [
       "$\\displaystyle \\left[\\begin{matrix}dt \\left(- b_{wx} + w_{x}\\right)\\\\dt \\left(- b_{wy} + w_{y}\\right)\\\\dt \\left(- b_{wz} + w_{z}\\right)\\end{matrix}\\right]$"
      ],
      "text/plain": [
       "Matrix([\n",
       "[dt*(-b_{wx} + w_{x})],\n",
       "[dt*(-b_{wy} + w_{y})],\n",
       "[dt*(-b_{wz} + w_{z})]])"
      ]
     },
     "execution_count": 161,
     "metadata": {},
     "output_type": "execute_result"
    }
   ],
   "source": [
    "(omega*dt) #calculating the angular velocity difference at time dt"
   ]
  },
  {
   "cell_type": "code",
   "execution_count": 162,
   "id": "e8d1b3ea-7445-4481-b11f-ecd1afa2b370",
   "metadata": {},
   "outputs": [],
   "source": [
    "   #calculating the rotational differnce delta_q\n",
    "def delta_q(omega, dt):\n",
    "    theta = omega.norm() * dt #calculating the total rotation angle\n",
    "    if theta == 0: #there is no rotation if theta =0\n",
    "        return sp.Matrix([1, 0, 0, 0])  # nullpöörlemine\n",
    "    axis = omega / omega.norm() #normalize angular velocity to get rotation axis\n",
    "    w = sp.cos(theta / 2) # scalar part of quaternion\n",
    "    xyz = axis * sp.sin(theta / 2) # vector part of quaternion\n",
    "    return sp.Matrix([w, *xyz]) # return quaternion representing the rotation\n"
   ]
  },
  {
   "cell_type": "code",
   "execution_count": 163,
   "id": "32c7e489-5bc8-4b77-ae43-bc1b6f3b0f9b",
   "metadata": {},
   "outputs": [],
   "source": [
    "dq=delta_q(omega,dt) "
   ]
  },
  {
   "cell_type": "code",
   "execution_count": 164,
   "id": "cf203157-5085-42af-93b0-f88de3336a19",
   "metadata": {},
   "outputs": [],
   "source": [
    "#defining how quaternions are multiplied toghether\n",
    "def quat_multiply(dq, q):\n",
    "    qw1, qx1, qy1, qz1 = dq\n",
    "    qw2, qx2, qy2, qz2 = q\n",
    "    qw = qw1*qw2 - qx1*qx2 - qy1*qy2 - qz1*qz2\n",
    "    qx = qw1*qx2 + qx1*qw2 + qy1*qz2 - qz1*qy2\n",
    "    qy = qw1*qy2 - qx1*qz2 + qy1*qw2 + qz1*qx2\n",
    "    qz = qw1*qz2 + qx1*qy2 - qy1*qx2 + qz1*qw2\n",
    "    return sp.Matrix([qw, qx, qy, qz])\n"
   ]
  },
  {
   "cell_type": "code",
   "execution_count": 165,
   "id": "fcffa296-a0fe-4a1b-a5c9-c4698b455b72",
   "metadata": {},
   "outputs": [],
   "source": [
    "# calculating the norm\n",
    "norm = sp.sqrt(qw**2 + qx**2 + qy**2 + qz**2)"
   ]
  },
  {
   "cell_type": "code",
   "execution_count": 166,
   "id": "111e2289-db25-4770-80f5-820cf8400e72",
   "metadata": {},
   "outputs": [],
   "source": [
    "position_t=p+(v * dt + 0.5*(R*(am - ba) + g)*dt**2) #calculating the  position at time t"
   ]
  },
  {
   "cell_type": "code",
   "execution_count": 167,
   "id": "2b1b4a27-f6ed-4600-aee4-79b860bb6ab4",
   "metadata": {},
   "outputs": [],
   "source": [
    "velocity_t=v+(R*(am-ba)+g)*dt   #calculating the velocity at time t"
   ]
  },
  {
   "cell_type": "code",
   "execution_count": 168,
   "id": "13049f05-8c5e-4836-b98d-4a471600bc4d",
   "metadata": {},
   "outputs": [],
   "source": [
    "quaternion_t=quat_multiply(dq, q) #calculating the new quaternion"
   ]
  },
  {
   "cell_type": "code",
   "execution_count": 169,
   "id": "26ba3b5e-5658-4056-9682-89f464ce8713",
   "metadata": {},
   "outputs": [],
   "source": [
    "quaternion_t = quaternion_t / norm # normalize quaternion to unit length"
   ]
  },
  {
   "cell_type": "code",
   "execution_count": 170,
   "id": "1e07cf9f-3c54-4094-a487-8688c77be8b3",
   "metadata": {},
   "outputs": [],
   "source": [
    "bw_t=bw #gyroscope bias at time t"
   ]
  },
  {
   "cell_type": "code",
   "execution_count": 171,
   "id": "67b53936-4f41-42d3-97ee-1cce71d7733c",
   "metadata": {},
   "outputs": [],
   "source": [
    "ba_t=ba #accelometer bias at time t"
   ]
  },
  {
   "cell_type": "code",
   "execution_count": 172,
   "id": "20d3ccbb-4e02-4028-88b0-a17b899b2414",
   "metadata": {},
   "outputs": [],
   "source": [
    "#Entire drone kinematics equation\n",
    "f_xu = sp.Matrix.vstack(\n",
    "    position_t, velocity_t, quaternion_t, bw_t, ba_t\n",
    "   \n",
    ")"
   ]
  },
  {
   "cell_type": "code",
   "execution_count": 173,
   "id": "2f4452c7-a5d3-4ba5-974f-db4a037448eb",
   "metadata": {},
   "outputs": [],
   "source": [
    "F=f_xu.jacobian(x) #getting F matrix"
   ]
  },
  {
   "cell_type": "code",
   "execution_count": 174,
   "id": "9a27a51d-f360-4737-88fb-feb7c1d24fb7",
   "metadata": {},
   "outputs": [],
   "source": [
    "G=f_xu.jacobian(u) #getting G matrix"
   ]
  },
  {
   "cell_type": "code",
   "execution_count": null,
   "id": "c21dfa03-5309-477c-9ee7-67311c4edf82",
   "metadata": {},
   "outputs": [],
   "source": []
  }
 ],
 "metadata": {
  "kernelspec": {
   "display_name": "Python 3 (ipykernel)",
   "language": "python",
   "name": "python3"
  },
  "language_info": {
   "codemirror_mode": {
    "name": "ipython",
    "version": 3
   },
   "file_extension": ".py",
   "mimetype": "text/x-python",
   "name": "python",
   "nbconvert_exporter": "python",
   "pygments_lexer": "ipython3",
   "version": "3.13.9"
  }
 },
 "nbformat": 4,
 "nbformat_minor": 5
}
