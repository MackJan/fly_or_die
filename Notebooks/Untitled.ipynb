{
 "cells": [
  {
   "cell_type": "code",
   "execution_count": 7,
   "id": "f657da09-d1ca-49bb-9234-6da381fd3437",
   "metadata": {},
   "outputs": [],
   "source": [
    "# --- deps: pip install filterpy sympy numpy ---\n",
    "import numpy as np\n",
    "import sympy as sp"
   ]
  },
  {
   "cell_type": "code",
   "execution_count": 8,
   "id": "5d93e945-c0e3-4c0a-a20b-5ac12f11471a",
   "metadata": {},
   "outputs": [],
   "source": [
    "px, py, pz, vx, vy, vz, qw, qx, qy, qz = sp.symbols('p_{x} p_{y} p_{z} v_{x} v_{y} v_{z} q_{w} q_{x} q_{y} q_{z}')\n",
    "bwx, bwy, bwz, bax, bay, baz =  sp.symbols('b_{wx} b_{wy} b_{wz} b_{ax} b_{ay} b_{az}')"
   ]
  },
  {
   "cell_type": "code",
   "execution_count": 9,
   "id": "9be229a3-4608-4e19-bfbd-ac8533186459",
   "metadata": {},
   "outputs": [],
   "source": [
    "x =sp.Matrix([px, py, pz, vx, vy, vz, qw, qx, qy, qz, bwx, bwy, bwz, bax, bay, baz])"
   ]
  },
  {
   "cell_type": "code",
   "execution_count": 10,
   "id": "8612cec7-8b0c-43f2-8e9b-32f8b032d026",
   "metadata": {},
   "outputs": [],
   "source": [
    "p = sp.Matrix([\n",
    "    px, py, pz\n",
    "])\n",
    "\n",
    "v = sp.Matrix([\n",
    "    vx, vy, vz\n",
    "])\n",
    "q = sp.Matrix([\n",
    "    qw, qx, qy, qz\n",
    "])\n",
    "bw = sp.Matrix([\n",
    "    bwx, bwy, bwz, \n",
    "])\n",
    "\n",
    "ba = sp.Matrix([\n",
    "    bax, bay, baz\n",
    "])\n",
    "\n",
    "dt = sp.symbols('dt')\n",
    "\n",
    "R = sp.Matrix([\n",
    "    [1-2*(qy**2 + qz**2), 2*(qx*qy - qw*qz), 2*(qx*qz + qw*qy)],\n",
    "    [2*(qx*qy - qw*qz), 1-2*(qx**2 + qz**2), 2*(qy*qz-qw*qx)],\n",
    "    [2*(qx*qz - qw * qy), 2*(qy*qz + qw*qx), 1-2*(qx**2 + qy**2)]\n",
    "])\n",
    "\n",
    "ax, ay, az = sp.symbols('a_{x} a_{y} a_{z}')\n",
    "wx, wy, wz = sp.symbols('w_{x} w_{y} w_{z}')\n",
    "\n",
    "am = sp.Matrix([\n",
    "        ax, ay, az\n",
    "])\n",
    "\n",
    "wm = sp.Matrix([\n",
    "        wx, wy, wz\n",
    "])\n",
    "\n",
    "g = sp.Matrix([\n",
    "    0, 0, -9.81\n",
    "])\n",
    "               "
   ]
  },
  {
   "cell_type": "code",
   "execution_count": 11,
   "id": "0830d6b3-4ad2-433b-afa8-dca3a9847669",
   "metadata": {},
   "outputs": [
    {
     "data": {
      "text/latex": [
       "$\\displaystyle \\left[\\begin{matrix}dt^{2} \\left(0.5 \\left(a_{x} - b_{ax}\\right) \\left(- 2 q_{y}^{2} - 2 q_{z}^{2} + 1\\right) + 0.5 \\left(a_{y} - b_{ay}\\right) \\left(- 2 q_{w} q_{z} + 2 q_{x} q_{y}\\right) + 0.5 \\left(a_{z} - b_{az}\\right) \\left(2 q_{w} q_{y} + 2 q_{x} q_{z}\\right)\\right) + dt v_{x}\\\\dt^{2} \\left(0.5 \\left(a_{x} - b_{ax}\\right) \\left(- 2 q_{w} q_{z} + 2 q_{x} q_{y}\\right) + 0.5 \\left(a_{y} - b_{ay}\\right) \\left(- 2 q_{x}^{2} - 2 q_{z}^{2} + 1\\right) + 0.5 \\left(a_{z} - b_{az}\\right) \\left(- 2 q_{w} q_{x} + 2 q_{y} q_{z}\\right)\\right) + dt v_{y}\\\\dt^{2} \\left(0.5 \\left(a_{x} - b_{ax}\\right) \\left(- 2 q_{w} q_{y} + 2 q_{x} q_{z}\\right) + 0.5 \\left(a_{y} - b_{ay}\\right) \\left(2 q_{w} q_{x} + 2 q_{y} q_{z}\\right) + 0.5 \\left(a_{z} - b_{az}\\right) \\left(- 2 q_{x}^{2} - 2 q_{y}^{2} + 1\\right) - 4.905\\right) + dt v_{z}\\end{matrix}\\right]$"
      ],
      "text/plain": [
       "Matrix([\n",
       "[        dt**2*(0.5*(a_{x} - b_{ax})*(-2*q_{y}**2 - 2*q_{z}**2 + 1) + 0.5*(a_{y} - b_{ay})*(-2*q_{w}*q_{z} + 2*q_{x}*q_{y}) + 0.5*(a_{z} - b_{az})*(2*q_{w}*q_{y} + 2*q_{x}*q_{z})) + dt*v_{x}],\n",
       "[       dt**2*(0.5*(a_{x} - b_{ax})*(-2*q_{w}*q_{z} + 2*q_{x}*q_{y}) + 0.5*(a_{y} - b_{ay})*(-2*q_{x}**2 - 2*q_{z}**2 + 1) + 0.5*(a_{z} - b_{az})*(-2*q_{w}*q_{x} + 2*q_{y}*q_{z})) + dt*v_{y}],\n",
       "[dt**2*(0.5*(a_{x} - b_{ax})*(-2*q_{w}*q_{y} + 2*q_{x}*q_{z}) + 0.5*(a_{y} - b_{ay})*(2*q_{w}*q_{x} + 2*q_{y}*q_{z}) + 0.5*(a_{z} - b_{az})*(-2*q_{x}**2 - 2*q_{y}**2 + 1) - 4.905) + dt*v_{z}]])"
      ]
     },
     "execution_count": 11,
     "metadata": {},
     "output_type": "execute_result"
    }
   ],
   "source": [
    "v * dt + 0.5*(R*(am - ba) + g)*dt**2"
   ]
  },
  {
   "cell_type": "code",
   "execution_count": null,
   "id": "9f2ffa63-94c3-4d65-bec5-0612068c712e",
   "metadata": {},
   "outputs": [],
   "source": []
  }
 ],
 "metadata": {
  "kernelspec": {
   "display_name": "venv",
   "language": "python",
   "name": "python3"
  },
  "language_info": {
   "codemirror_mode": {
    "name": "ipython",
    "version": 3
   },
   "file_extension": ".py",
   "mimetype": "text/x-python",
   "name": "python",
   "nbconvert_exporter": "python",
   "pygments_lexer": "ipython3",
   "version": "3.9.6"
  }
 },
 "nbformat": 4,
 "nbformat_minor": 5
}
